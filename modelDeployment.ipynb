{
 "cells": [
  {
   "cell_type": "code",
   "execution_count": 1,
   "id": "868dd8d4",
   "metadata": {},
   "outputs": [],
   "source": [
    "import pickle \n",
    "import pandas as pd\n",
    "from pandas.tseries.offsets import DateOffset\n",
    "import warnings\n",
    "warnings.filterwarnings('ignore')"
   ]
  },
  {
   "cell_type": "code",
   "execution_count": 2,
   "id": "9b504471",
   "metadata": {},
   "outputs": [],
   "source": [
    "def Arima_pred(df,f):\n",
    "    df.index = pd.to_datetime(df.index)\n",
    "    last_date = df.index[-1]\n",
    "    offsets = [DateOffset(years=x) for x in range(1, f+1)]\n",
    "    future_dates = [offset.apply(last_date) for offset in offsets]\n",
    "    new_data = pd.DataFrame(index=future_dates)\n",
    "    model=pickle.load(open('Forecast_arima.pkl','rb'))\n",
    "    predictions = model.predict(start=len(df), end=len(df)+len(new_data)-1, exog=new_data)\n",
    "    return  predictions"
   ]
  },
  {
   "cell_type": "code",
   "execution_count": 3,
   "id": "39ad026b",
   "metadata": {},
   "outputs": [
    {
     "name": "stdout",
     "output_type": "stream",
     "text": [
      "The years That you want to preduct:6\n",
      "Note : The end point is not greater than 11\n",
      "2021-01-01    2.563101e+07\n",
      "2022-01-01    2.577108e+07\n",
      "2023-01-01    2.606332e+07\n",
      "2024-01-01    2.644478e+07\n",
      "2025-01-01    2.668281e+07\n",
      "2026-01-01    2.701835e+07\n",
      "Freq: AS-JAN, Name: predicted_mean, dtype: float64\n"
     ]
    }
   ],
   "source": [
    "df = pd.read_csv(\"updatedco2.csv\")\n",
    "f=int(input('The years That you want to preduct:'))\n",
    "print('Note : The end point is not greater than 11')\n",
    "if f<=10:\n",
    "    print(Arima_pred(df,f))\n",
    "else:\n",
    "    print('not valid')"
   ]
  },
  {
   "cell_type": "code",
   "execution_count": null,
   "id": "a4318dfb",
   "metadata": {},
   "outputs": [],
   "source": []
  }
 ],
 "metadata": {
  "kernelspec": {
   "display_name": "Python 3 (ipykernel)",
   "language": "python",
   "name": "python3"
  },
  "language_info": {
   "codemirror_mode": {
    "name": "ipython",
    "version": 3
   },
   "file_extension": ".py",
   "mimetype": "text/x-python",
   "name": "python",
   "nbconvert_exporter": "python",
   "pygments_lexer": "ipython3",
   "version": "3.9.13"
  }
 },
 "nbformat": 4,
 "nbformat_minor": 5
}
